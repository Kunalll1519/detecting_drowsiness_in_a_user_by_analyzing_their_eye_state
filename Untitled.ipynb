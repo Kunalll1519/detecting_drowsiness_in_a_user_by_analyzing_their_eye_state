{
 "cells": [
  {
   "cell_type": "code",
   "execution_count": 3,
   "id": "d0bdfa68-de84-4c0d-ad74-ccfb2e464c44",
   "metadata": {},
   "outputs": [
    {
     "name": "stderr",
     "output_type": "stream",
     "text": [
      "WARNING:absl:Compiled the loaded model, but the compiled metrics have yet to be built. `model.compile_metrics` will be empty until you train or evaluate the model.\n"
     ]
    }
   ],
   "source": [
    "#2\n",
    "import cv2\n",
    "import numpy as np\n",
    "import tensorflow as tf\n",
    "from tensorflow.keras.models import load_model\n",
    "import tensorflow.keras as keras\n",
    "\n",
    "\n",
    "# Load the face and eye cascade classifiers\n",
    "face_cascade = cv2.CascadeClassifier(cv2.data.haarcascades + 'haarcascade_frontalface_default.xml')\n",
    "eye_cascade = cv2.CascadeClassifier(cv2.data.haarcascades + 'haarcascade_eye.xml')\n",
    "\n",
    "# Load your trained model\n",
    "model = load_model('model_weights.h5')\n",
    "\n",
    "# Open the camera\n",
    "cap = cv2.VideoCapture(0)\n",
    "\n",
    "while True:\n",
    "    ret, frame = cap.read()\n",
    "\n",
    "    # Convert the frame to grayscale for face and eye detection\n",
    "    gray = cv2.cvtColor(frame, cv2.COLOR_BGR2GRAY)\n",
    "\n",
    "    # Detect faces in the frame\n",
    "    faces = face_cascade.detectMultiScale(gray, scaleFactor=1.3, minNeighbors=5, minSize=(30, 30))\n",
    "\n",
    "    for (x, y, w, h) in faces:\n",
    "        # Extract the region of interest (ROI) for eyes\n",
    "        roi_gray = gray[y:y + h, x:x + w]\n",
    "        eyes = eye_cascade.detectMultiScale(roi_gray)\n",
    "\n",
    "        for (ex, ey, ew, eh) in eyes:\n",
    "            eye_image = roi_gray[ey: ey + eh, ex: ex + ew]\n",
    "\n",
    "            # Resize the eye image to match the input size of the model\n",
    "            eye_image = cv2.resize(eye_image, (64, 64))\n",
    "            #eye_image = cv2.resize(eye_image, (48, 48))\n",
    "\n",
    "            # Normalize pixel values to be between 0 and 1\n",
    "            eye_image = eye_image / 255.0\n",
    "\n",
    "            # Reshape the image for model prediction\n",
    "            eye_image = eye_image.reshape((1, 64, 64, 1))\n",
    "\n",
    "            # Predict drowsiness using the trained model\n",
    "            prediction = model.predict(eye_image)\n",
    "\n",
    "            # Determine the eye state based on the prediction\n",
    "            eye_status = \"Open\" if prediction <= 0.5 else \"Closed\"\n",
    "\n",
    "            # Draw rectangles around eyes\n",
    "            cv2.rectangle(frame, (x + ex, y + ey), (x + ex + ew, y + ey + eh), (0, 255, 0), 2)\n",
    "\n",
    "            # Display eye status text\n",
    "            cv2.putText(frame, f'Eyes: {eye_status}', (x, y - 10), cv2.FONT_HERSHEY_SIMPLEX, 0.5, (0, 255, 0), 2)\n",
    "\n",
    "    # Display the resulting frame\n",
    "    cv2.imshow('Drowsiness Detection', frame)\n",
    "\n",
    "    # Break the loop if 'q' is pressed\n",
    "    if cv2.waitKey(1) & 0xFF == ord('q'):\n",
    "        break\n",
    "\n",
    "# Release the camera and close all OpenCV windows\n",
    "cap.release()\n",
    "cv2.destroyAllWindows()\n"
   ]
  },
  {
   "cell_type": "code",
   "execution_count": null,
   "id": "9f6dfdf1-62b7-4ed4-907f-fd644a766d30",
   "metadata": {},
   "outputs": [],
   "source": []
  }
 ],
 "metadata": {
  "kernelspec": {
   "display_name": "Python 3 (ipykernel)",
   "language": "python",
   "name": "python3"
  },
  "language_info": {
   "codemirror_mode": {
    "name": "ipython",
    "version": 3
   },
   "file_extension": ".py",
   "mimetype": "text/x-python",
   "name": "python",
   "nbconvert_exporter": "python",
   "pygments_lexer": "ipython3",
   "version": "3.11.5"
  }
 },
 "nbformat": 4,
 "nbformat_minor": 5
}
